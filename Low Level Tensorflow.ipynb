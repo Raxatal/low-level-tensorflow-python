{
 "cells": [
  {
   "cell_type": "markdown",
   "id": "39d43a4e",
   "metadata": {},
   "source": [
    "Note: Use this template to develop your project. Do not change the steps. For each step, you may add additional cells if needed."
   ]
  },
  {
   "cell_type": "markdown",
   "id": "2b9b28a8",
   "metadata": {},
   "source": [
    "#### Group Information\n",
    "\n",
    "Group No: Derma5\n",
    "\n",
    "- Member 1: Zarif Irfan bin Khairussli (163470)\n",
    "- Member 2: Iqmal Aidid bin Zakaria (163555)\n",
    "- Member 3: Arif Hakim Bin Amir Hakim (161120)\n",
    "- Member 4: Ahmad Hazwan Syauqee bin Husairi (164485)"
   ]
  },
  {
   "cell_type": "markdown",
   "id": "2c0a3c45",
   "metadata": {},
   "source": [
    "#### Import Libraries"
   ]
  },
  {
   "cell_type": "code",
   "execution_count": 1,
   "id": "79b84136",
   "metadata": {},
   "outputs": [],
   "source": [
    "%config Completer.use_jedi=False\n",
    "import numpy as np\n",
    "import pandas as pd\n",
    "import tensorflow as tf\n",
    "from sklearn.model_selection import train_test_split\n",
    "from sklearn.metrics import confusion_matrix, classification_report\n",
    "import matplotlib.pyplot as plt"
   ]
  },
  {
   "cell_type": "markdown",
   "id": "5dceb4ff",
   "metadata": {},
   "source": [
    "#### Load the dataset"
   ]
  },
  {
   "cell_type": "code",
   "execution_count": 2,
   "id": "a83d38c1",
   "metadata": {
    "scrolled": true
   },
   "outputs": [
    {
     "data": {
      "text/html": [
       "<div>\n",
       "<style scoped>\n",
       "    .dataframe tbody tr th:only-of-type {\n",
       "        vertical-align: middle;\n",
       "    }\n",
       "\n",
       "    .dataframe tbody tr th {\n",
       "        vertical-align: top;\n",
       "    }\n",
       "\n",
       "    .dataframe thead th {\n",
       "        text-align: right;\n",
       "    }\n",
       "</style>\n",
       "<table border=\"1\" class=\"dataframe\">\n",
       "  <thead>\n",
       "    <tr style=\"text-align: right;\">\n",
       "      <th></th>\n",
       "      <th>f1</th>\n",
       "      <th>f2</th>\n",
       "      <th>f3</th>\n",
       "      <th>f4</th>\n",
       "      <th>f5</th>\n",
       "      <th>label</th>\n",
       "    </tr>\n",
       "  </thead>\n",
       "  <tbody>\n",
       "    <tr>\n",
       "      <th>16</th>\n",
       "      <td>-1.494896</td>\n",
       "      <td>-5.102752</td>\n",
       "      <td>5.912392</td>\n",
       "      <td>6.074304</td>\n",
       "      <td>5.455614</td>\n",
       "      <td>1</td>\n",
       "    </tr>\n",
       "    <tr>\n",
       "      <th>834</th>\n",
       "      <td>10.160136</td>\n",
       "      <td>13.916993</td>\n",
       "      <td>-1.772845</td>\n",
       "      <td>-7.367318</td>\n",
       "      <td>13.929875</td>\n",
       "      <td>0</td>\n",
       "    </tr>\n",
       "    <tr>\n",
       "      <th>390</th>\n",
       "      <td>-5.826600</td>\n",
       "      <td>1.470007</td>\n",
       "      <td>6.573676</td>\n",
       "      <td>13.669585</td>\n",
       "      <td>4.293634</td>\n",
       "      <td>1</td>\n",
       "    </tr>\n",
       "    <tr>\n",
       "      <th>119</th>\n",
       "      <td>-4.431512</td>\n",
       "      <td>4.220060</td>\n",
       "      <td>7.707011</td>\n",
       "      <td>-2.602157</td>\n",
       "      <td>3.801321</td>\n",
       "      <td>0</td>\n",
       "    </tr>\n",
       "    <tr>\n",
       "      <th>362</th>\n",
       "      <td>2.864499</td>\n",
       "      <td>2.129677</td>\n",
       "      <td>16.132761</td>\n",
       "      <td>-2.320604</td>\n",
       "      <td>-0.292796</td>\n",
       "      <td>0</td>\n",
       "    </tr>\n",
       "    <tr>\n",
       "      <th>154</th>\n",
       "      <td>1.407007</td>\n",
       "      <td>4.559903</td>\n",
       "      <td>10.582799</td>\n",
       "      <td>11.417692</td>\n",
       "      <td>5.310664</td>\n",
       "      <td>1</td>\n",
       "    </tr>\n",
       "    <tr>\n",
       "      <th>823</th>\n",
       "      <td>-3.229555</td>\n",
       "      <td>2.733618</td>\n",
       "      <td>2.270249</td>\n",
       "      <td>-3.365433</td>\n",
       "      <td>4.322541</td>\n",
       "      <td>0</td>\n",
       "    </tr>\n",
       "    <tr>\n",
       "      <th>920</th>\n",
       "      <td>2.320014</td>\n",
       "      <td>-1.938325</td>\n",
       "      <td>2.841856</td>\n",
       "      <td>8.350827</td>\n",
       "      <td>3.374928</td>\n",
       "      <td>1</td>\n",
       "    </tr>\n",
       "    <tr>\n",
       "      <th>93</th>\n",
       "      <td>0.610071</td>\n",
       "      <td>8.116836</td>\n",
       "      <td>-0.863963</td>\n",
       "      <td>-7.114947</td>\n",
       "      <td>9.347659</td>\n",
       "      <td>0</td>\n",
       "    </tr>\n",
       "    <tr>\n",
       "      <th>356</th>\n",
       "      <td>-4.672923</td>\n",
       "      <td>0.586553</td>\n",
       "      <td>16.370864</td>\n",
       "      <td>3.707253</td>\n",
       "      <td>0.454410</td>\n",
       "      <td>1</td>\n",
       "    </tr>\n",
       "  </tbody>\n",
       "</table>\n",
       "</div>"
      ],
      "text/plain": [
       "            f1         f2         f3         f4         f5  label\n",
       "16   -1.494896  -5.102752   5.912392   6.074304   5.455614      1\n",
       "834  10.160136  13.916993  -1.772845  -7.367318  13.929875      0\n",
       "390  -5.826600   1.470007   6.573676  13.669585   4.293634      1\n",
       "119  -4.431512   4.220060   7.707011  -2.602157   3.801321      0\n",
       "362   2.864499   2.129677  16.132761  -2.320604  -0.292796      0\n",
       "154   1.407007   4.559903  10.582799  11.417692   5.310664      1\n",
       "823  -3.229555   2.733618   2.270249  -3.365433   4.322541      0\n",
       "920   2.320014  -1.938325   2.841856   8.350827   3.374928      1\n",
       "93    0.610071   8.116836  -0.863963  -7.114947   9.347659      0\n",
       "356  -4.672923   0.586553  16.370864   3.707253   0.454410      1"
      ]
     },
     "execution_count": 2,
     "metadata": {},
     "output_type": "execute_result"
    }
   ],
   "source": [
    "dataset = pd.read_csv('classification_dataset.csv')\n",
    "dataset.sample(10)"
   ]
  },
  {
   "cell_type": "code",
   "execution_count": 3,
   "id": "45aa726a",
   "metadata": {
    "scrolled": true
   },
   "outputs": [
    {
     "data": {
      "text/plain": [
       "(1000, 6)"
      ]
     },
     "execution_count": 3,
     "metadata": {},
     "output_type": "execute_result"
    }
   ],
   "source": [
    "dataset.shape"
   ]
  },
  {
   "cell_type": "code",
   "execution_count": 4,
   "id": "08fab21a",
   "metadata": {},
   "outputs": [],
   "source": [
    "X = dataset.iloc[:, :-1].values  # Extract features (all columns except the last one)\n",
    "y = dataset.iloc[:, -1].values   # Extract target labels (last column)"
   ]
  },
  {
   "cell_type": "markdown",
   "id": "7f0f56c6",
   "metadata": {},
   "source": [
    "#### Define the loss function"
   ]
  },
  {
   "cell_type": "code",
   "execution_count": 5,
   "id": "b4024775",
   "metadata": {},
   "outputs": [],
   "source": [
    "def loss_fn(y_true, y_pred): #y_pred == y_hat\n",
    "    \"\"\"\n",
    "    This function calculates the loss function using sigmoid cross-entropy loss.\n",
    "    \"\"\"\n",
    "    y_true = tf.cast(y_true, dtype=tf.float64)  # Ensure y_true is of type float64\n",
    "    y_pred = tf.cast(y_pred, dtype=tf.float64)  # Ensure y_pred is of type float64\n",
    "    return tf.reduce_mean(tf.nn.sigmoid_cross_entropy_with_logits(labels=y_true, logits=y_pred))\n"
   ]
  },
  {
   "cell_type": "markdown",
   "id": "753a2eca",
   "metadata": {},
   "source": [
    "#### Define function to perform prediction"
   ]
  },
  {
   "cell_type": "code",
   "execution_count": 6,
   "id": "bdbf2168",
   "metadata": {},
   "outputs": [],
   "source": [
    "def sigmoid(x):\n",
    "    \"\"\"\n",
    "    This function calculates the sigmoid function.\n",
    "    \"\"\"\n",
    "    return 1 / (1 + tf.exp(-x))\n",
    "\n",
    "# Define function to perform ReLU activation\n",
    "def relu(x):\n",
    "    \"\"\"\n",
    "    This function calculates the ReLU function.\n",
    "    \"\"\"\n",
    "    return tf.maximum(0, x) # so if x > 0, take the x, else return 0\n",
    "\n",
    "# Define function to perform forward pass (predicts the label)\n",
    "def forward(X, W1, b1, W2, b2):\n",
    "    \"\"\"\n",
    "    This function calculates the forward pass (predicts the label).\n",
    "    \"\"\"\n",
    "    X = tf.cast(X, dtype=tf.float64)  # Ensure X is of type float64\n",
    "    h = relu(tf.add(tf.matmul(X, W1), b1)) # Forward pass through the hidden layer with ReLU activation\n",
    "    logits = tf.add(tf.matmul(h, W2), b2) # Forward pass through the output layer\n",
    "    return tf.squeeze(logits)  # Squeeze the logits to match the shape of labels\n",
    "\n"
   ]
  },
  {
   "cell_type": "markdown",
   "id": "e7bc735b",
   "metadata": {},
   "source": [
    "#### Define function for model training\n",
    "Display the training and validation loss values for each epoch of the training loop. The displayed value must be in 6 decimal places.<br>\n",
    "Hint: <br>\n",
    "Use `tf.GradientTape` to compute the gradients."
   ]
  },
  {
   "cell_type": "code",
   "execution_count": 7,
   "id": "fe17ccc5",
   "metadata": {},
   "outputs": [],
   "source": [
    "def train(X, y, W1, b1, W2, b2, learning_rate):\n",
    "    \"\"\"\n",
    "    This function performs the forward pass, computes the gradient and updates the weights and biases using gradient descent.\n",
    "    \"\"\"\n",
    "    X = tf.cast(X, dtype=tf.float64)  # Ensure X is of type float64\n",
    "    y = tf.cast(y, dtype=tf.float64)  # Ensure y is of type float64\n",
    "    with tf.GradientTape() as tape:\n",
    "        y_pred = forward(X, W1, b1, W2, b2)  # Forward pass\n",
    "        loss = loss_fn(y, y_pred)  # Compute loss\n",
    "    gradients = tape.gradient(loss, [W1, b1, W2, b2])  # Compute gradients\n",
    "    # Update weights and biases using gradient descent\n",
    "    W1.assign_sub(learning_rate * gradients[0])\n",
    "    b1.assign_sub(learning_rate * gradients[1])\n",
    "    W2.assign_sub(learning_rate * gradients[2])\n",
    "    b2.assign_sub(learning_rate * gradients[3])\n",
    "    return loss"
   ]
  },
  {
   "cell_type": "markdown",
   "id": "28dd0590",
   "metadata": {},
   "source": [
    "#### Define function for model training with mini-batch gradient descent and early stopping"
   ]
  },
  {
   "cell_type": "code",
   "execution_count": 8,
   "id": "515de907",
   "metadata": {},
   "outputs": [],
   "source": [
    "def fit(X_train, y_train, X_val, y_val, epochs, batch_size, learning_rate, early_stopping_patience):\n",
    "    \"\"\"\n",
    "    This function trains the model using mini-batch gradient descent and implements early stopping regularization.\n",
    "    \"\"\"\n",
    "    train_losses = []  # List to store training losses for each epoch\n",
    "    val_losses = []  # List to store validation losses for each epoch\n",
    "    best_val_loss = float('inf')  # Initialize best validation loss\n",
    "    best_epoch = 0  # Initialize epoch with best validation loss\n",
    "    best_weights = None  # Initialize best weights\n",
    "    patience = 0  # Initialize patience counter for early stopping\n",
    "    \n",
    "    for epoch in range(epochs):\n",
    "        # Shuffle the training data\n",
    "        indices = np.random.permutation(len(X_train))\n",
    "        X_train_shuffled = X_train[indices]\n",
    "        y_train_shuffled = y_train[indices]\n",
    "        \n",
    "        # Mini-batch gradient descent\n",
    "        for i in range(0, len(X_train), batch_size):\n",
    "            X_batch = X_train_shuffled[i:i+batch_size]\n",
    "            y_batch = y_train_shuffled[i:i+batch_size]\n",
    "            train_loss = train(X_batch, y_batch, W1, b1, W2, b2, learning_rate)\n",
    "        \n",
    "        # Compute validation loss\n",
    "        val_loss = loss_fn(y_val, forward(X_val, W1, b1, W2, b2))\n",
    "        \n",
    "        # Early stopping\n",
    "        if val_loss < best_val_loss:\n",
    "            best_val_loss = val_loss\n",
    "            best_epoch = epoch\n",
    "            best_weights = [W1.numpy(), b1.numpy(), W2.numpy(), b2.numpy()]\n",
    "            patience = 0\n",
    "        else:\n",
    "            patience += 1\n",
    "            if patience > early_stopping_patience:\n",
    "                print(f\"Early stopping at epoch {epoch}. Best validation loss: {best_val_loss:.6f}\")\n",
    "                break\n",
    "        \n",
    "        train_losses.append(train_loss)\n",
    "        val_losses.append(val_loss)\n",
    "        \n",
    "        print(f\"Epoch {epoch+1}/{epochs}, Training Loss: {train_loss:.6f}, Validation Loss: {val_loss:.6f}\")\n",
    "    \n",
    "    return best_weights, train_losses, val_losses\n"
   ]
  },
  {
   "cell_type": "markdown",
   "id": "28f45213",
   "metadata": {},
   "source": [
    "#### Define the tensors to hold the weights and biases (create the model)\n",
    "Hint: <br>\n",
    "Use `tf.Variable` to create the tensors.<br>\n",
    "Put the tensors in a list."
   ]
  },
  {
   "cell_type": "code",
   "execution_count": 9,
   "id": "a2e2172b",
   "metadata": {},
   "outputs": [],
   "source": [
    "n_input = dataset.shape[1] - 1  # number of features\n",
    "n_hidden = 10  # number of units in the hidden layer/number of neurons in the hidden layer of the neural network.\n",
    "n_output = 1  # number of output units\n",
    "\n",
    "W1 = tf.Variable(tf.random.normal([n_input, n_hidden], dtype=tf.float64), name='weights1')\n",
    "b1 = tf.Variable(tf.zeros([n_hidden], dtype=tf.float64), name='biases1')\n",
    "W2 = tf.Variable(tf.random.normal([n_hidden, n_output], dtype=tf.float64), name='weights2')\n",
    "b2 = tf.Variable(tf.zeros([n_output], dtype=tf.float64), name='biases2')\n"
   ]
  },
  {
   "cell_type": "markdown",
   "id": "176badb8",
   "metadata": {},
   "source": [
    "#### Split the dataset\n",
    "The ratio of training and test is 7:1:2."
   ]
  },
  {
   "cell_type": "code",
   "execution_count": 10,
   "id": "5fa1b9b6",
   "metadata": {},
   "outputs": [],
   "source": [
    "# Split the dataset into training and test sets (80% training, 20% test)\n",
    "X_train, X_test, y_train, y_test = train_test_split(X, y, test_size=0.2, random_state=42)\n",
    "\n",
    "# Split the training set into training and validation sets (70% training, 10% validation)\n",
    "X_train, X_val, y_train, y_val = train_test_split(X_train, y_train, test_size=0.125/0.7, random_state=42)"
   ]
  },
  {
   "cell_type": "markdown",
   "id": "c3c4d6cf",
   "metadata": {},
   "source": [
    "#### Normalize the data"
   ]
  },
  {
   "cell_type": "code",
   "execution_count": 11,
   "id": "f689b7c6",
   "metadata": {},
   "outputs": [],
   "source": [
    "X_train = (X_train - np.mean(X_train, axis=0)) / np.std(X_train, axis=0)\n",
    "X_val = (X_val - np.mean(X_val, axis=0)) / np.std(X_val, axis=0)\n",
    "X_test = (X_test - np.mean(X_test, axis=0)) / np.std(X_test, axis=0)"
   ]
  },
  {
   "cell_type": "markdown",
   "id": "17e423dd",
   "metadata": {},
   "source": [
    "#### Set hyperparameters"
   ]
  },
  {
   "cell_type": "code",
   "execution_count": 12,
   "id": "da074073",
   "metadata": {},
   "outputs": [],
   "source": [
    "epochs = 100 #number of times the entire dataset will be passed forward and backward through the neural network.\n",
    "                # Can be 50 or even 300.\n",
    "batch_size = 32 #number of samples that are propagated through the neural network\n",
    "learning_rate = 0.01 #controls the size of the steps taken during gradient descent to update the model's parameters.\n",
    "early_stopping_patience = 5 #number of epochs with no improvement in validation loss before \n",
    "                            #training is stopped to prevent overfitting. Perharps 5-10.\n"
   ]
  },
  {
   "cell_type": "markdown",
   "id": "b1a2e7d6",
   "metadata": {},
   "source": [
    "#### Train the model with mini-batch gradient descent and early stopping"
   ]
  },
  {
   "cell_type": "code",
   "execution_count": 13,
   "id": "6304c496",
   "metadata": {
    "scrolled": false
   },
   "outputs": [
    {
     "name": "stdout",
     "output_type": "stream",
     "text": [
      "Epoch 1/100, Training Loss: 0.761692, Validation Loss: 1.569878\n",
      "Epoch 2/100, Training Loss: 1.692758, Validation Loss: 1.258890\n",
      "Epoch 3/100, Training Loss: 0.837261, Validation Loss: 1.031424\n",
      "Epoch 4/100, Training Loss: 0.717337, Validation Loss: 0.860887\n",
      "Epoch 5/100, Training Loss: 0.758264, Validation Loss: 0.730015\n",
      "Epoch 6/100, Training Loss: 0.626477, Validation Loss: 0.628901\n",
      "Epoch 7/100, Training Loss: 0.721042, Validation Loss: 0.548989\n",
      "Epoch 8/100, Training Loss: 0.301858, Validation Loss: 0.486023\n",
      "Epoch 9/100, Training Loss: 0.703365, Validation Loss: 0.433672\n",
      "Epoch 10/100, Training Loss: 0.485642, Validation Loss: 0.391526\n",
      "Epoch 11/100, Training Loss: 0.478229, Validation Loss: 0.356402\n",
      "Epoch 12/100, Training Loss: 0.418752, Validation Loss: 0.326695\n",
      "Epoch 13/100, Training Loss: 0.400081, Validation Loss: 0.301360\n",
      "Epoch 14/100, Training Loss: 0.245097, Validation Loss: 0.279666\n",
      "Epoch 15/100, Training Loss: 0.319231, Validation Loss: 0.260821\n",
      "Epoch 16/100, Training Loss: 0.240997, Validation Loss: 0.244383\n",
      "Epoch 17/100, Training Loss: 0.337637, Validation Loss: 0.229858\n",
      "Epoch 18/100, Training Loss: 0.212596, Validation Loss: 0.217039\n",
      "Epoch 19/100, Training Loss: 0.177402, Validation Loss: 0.205761\n",
      "Epoch 20/100, Training Loss: 0.256708, Validation Loss: 0.195446\n",
      "Epoch 21/100, Training Loss: 0.217795, Validation Loss: 0.186236\n",
      "Epoch 22/100, Training Loss: 0.104791, Validation Loss: 0.177929\n",
      "Epoch 23/100, Training Loss: 0.180123, Validation Loss: 0.170268\n",
      "Epoch 24/100, Training Loss: 0.113261, Validation Loss: 0.163348\n",
      "Epoch 25/100, Training Loss: 0.154214, Validation Loss: 0.157102\n",
      "Epoch 26/100, Training Loss: 0.153113, Validation Loss: 0.151277\n",
      "Epoch 27/100, Training Loss: 0.138375, Validation Loss: 0.145938\n",
      "Epoch 28/100, Training Loss: 0.197626, Validation Loss: 0.141158\n",
      "Epoch 29/100, Training Loss: 0.147758, Validation Loss: 0.136611\n",
      "Epoch 30/100, Training Loss: 0.105276, Validation Loss: 0.132446\n",
      "Epoch 31/100, Training Loss: 0.401123, Validation Loss: 0.128613\n",
      "Epoch 32/100, Training Loss: 0.085624, Validation Loss: 0.125016\n",
      "Epoch 33/100, Training Loss: 0.098265, Validation Loss: 0.121639\n",
      "Epoch 34/100, Training Loss: 0.135093, Validation Loss: 0.118497\n",
      "Epoch 35/100, Training Loss: 0.088550, Validation Loss: 0.115602\n",
      "Epoch 36/100, Training Loss: 0.078519, Validation Loss: 0.112888\n",
      "Epoch 37/100, Training Loss: 0.082591, Validation Loss: 0.110343\n",
      "Epoch 38/100, Training Loss: 0.170954, Validation Loss: 0.108012\n",
      "Epoch 39/100, Training Loss: 0.085142, Validation Loss: 0.105805\n",
      "Epoch 40/100, Training Loss: 0.083678, Validation Loss: 0.103725\n",
      "Epoch 41/100, Training Loss: 0.229136, Validation Loss: 0.101851\n",
      "Epoch 42/100, Training Loss: 0.109216, Validation Loss: 0.100025\n",
      "Epoch 43/100, Training Loss: 0.069133, Validation Loss: 0.098301\n",
      "Epoch 44/100, Training Loss: 0.063721, Validation Loss: 0.096670\n",
      "Epoch 45/100, Training Loss: 0.316661, Validation Loss: 0.095153\n",
      "Epoch 46/100, Training Loss: 0.138770, Validation Loss: 0.093669\n",
      "Epoch 47/100, Training Loss: 0.100721, Validation Loss: 0.092311\n",
      "Epoch 48/100, Training Loss: 0.083872, Validation Loss: 0.091015\n",
      "Epoch 49/100, Training Loss: 0.060795, Validation Loss: 0.089765\n",
      "Epoch 50/100, Training Loss: 0.065613, Validation Loss: 0.088590\n",
      "Epoch 51/100, Training Loss: 0.056679, Validation Loss: 0.087493\n",
      "Epoch 52/100, Training Loss: 0.043045, Validation Loss: 0.086436\n",
      "Epoch 53/100, Training Loss: 0.059267, Validation Loss: 0.085408\n",
      "Epoch 54/100, Training Loss: 0.053960, Validation Loss: 0.084443\n",
      "Epoch 55/100, Training Loss: 0.107628, Validation Loss: 0.083512\n",
      "Epoch 56/100, Training Loss: 0.066494, Validation Loss: 0.082647\n",
      "Epoch 57/100, Training Loss: 0.053194, Validation Loss: 0.081790\n",
      "Epoch 58/100, Training Loss: 0.063213, Validation Loss: 0.080992\n",
      "Epoch 59/100, Training Loss: 0.052790, Validation Loss: 0.080205\n",
      "Epoch 60/100, Training Loss: 0.056341, Validation Loss: 0.079448\n",
      "Epoch 61/100, Training Loss: 0.255375, Validation Loss: 0.078788\n",
      "Epoch 62/100, Training Loss: 0.056273, Validation Loss: 0.078099\n",
      "Epoch 63/100, Training Loss: 0.070863, Validation Loss: 0.077436\n",
      "Epoch 64/100, Training Loss: 0.046154, Validation Loss: 0.076810\n",
      "Epoch 65/100, Training Loss: 0.048048, Validation Loss: 0.076203\n",
      "Epoch 66/100, Training Loss: 0.128094, Validation Loss: 0.075619\n",
      "Epoch 67/100, Training Loss: 0.079544, Validation Loss: 0.075051\n",
      "Epoch 68/100, Training Loss: 0.027942, Validation Loss: 0.074516\n",
      "Epoch 69/100, Training Loss: 0.210502, Validation Loss: 0.074023\n",
      "Epoch 70/100, Training Loss: 0.253741, Validation Loss: 0.073576\n",
      "Epoch 71/100, Training Loss: 0.031974, Validation Loss: 0.073106\n",
      "Epoch 72/100, Training Loss: 0.363571, Validation Loss: 0.072657\n",
      "Epoch 73/100, Training Loss: 0.064645, Validation Loss: 0.072225\n",
      "Epoch 74/100, Training Loss: 0.042134, Validation Loss: 0.071790\n",
      "Epoch 75/100, Training Loss: 0.054729, Validation Loss: 0.071364\n",
      "Epoch 76/100, Training Loss: 0.086273, Validation Loss: 0.070966\n",
      "Epoch 77/100, Training Loss: 0.030625, Validation Loss: 0.070576\n",
      "Epoch 78/100, Training Loss: 0.104650, Validation Loss: 0.070216\n",
      "Epoch 79/100, Training Loss: 0.043897, Validation Loss: 0.069853\n",
      "Epoch 80/100, Training Loss: 0.050780, Validation Loss: 0.069506\n",
      "Epoch 81/100, Training Loss: 0.034515, Validation Loss: 0.069174\n",
      "Epoch 82/100, Training Loss: 0.168985, Validation Loss: 0.068875\n",
      "Epoch 83/100, Training Loss: 0.042736, Validation Loss: 0.068560\n",
      "Epoch 84/100, Training Loss: 0.050927, Validation Loss: 0.068257\n",
      "Epoch 85/100, Training Loss: 0.024678, Validation Loss: 0.067965\n",
      "Epoch 86/100, Training Loss: 0.031704, Validation Loss: 0.067673\n",
      "Epoch 87/100, Training Loss: 0.082097, Validation Loss: 0.067381\n",
      "Epoch 88/100, Training Loss: 0.014523, Validation Loss: 0.067113\n",
      "Epoch 89/100, Training Loss: 0.308560, Validation Loss: 0.066881\n",
      "Epoch 90/100, Training Loss: 0.024371, Validation Loss: 0.066622\n",
      "Epoch 91/100, Training Loss: 0.027216, Validation Loss: 0.066374\n",
      "Epoch 92/100, Training Loss: 0.064427, Validation Loss: 0.066136\n",
      "Epoch 93/100, Training Loss: 0.263766, Validation Loss: 0.065919\n",
      "Epoch 94/100, Training Loss: 0.028220, Validation Loss: 0.065683\n",
      "Epoch 95/100, Training Loss: 0.067239, Validation Loss: 0.065448\n",
      "Epoch 96/100, Training Loss: 0.016870, Validation Loss: 0.065235\n",
      "Epoch 97/100, Training Loss: 0.048258, Validation Loss: 0.065022\n",
      "Epoch 98/100, Training Loss: 0.394860, Validation Loss: 0.064825\n",
      "Epoch 99/100, Training Loss: 0.322546, Validation Loss: 0.064656\n",
      "Epoch 100/100, Training Loss: 0.028794, Validation Loss: 0.064457\n"
     ]
    }
   ],
   "source": [
    "best_weights, train_losses, val_losses = fit(X_train, y_train, X_val, y_val, epochs, batch_size, learning_rate, early_stopping_patience)\n",
    "# Returns the best weights obtained during training, along with the training and validation losses recorded during each epoch."
   ]
  },
  {
   "cell_type": "markdown",
   "id": "88bc6b62",
   "metadata": {},
   "source": [
    "#### Set the best weights and biases"
   ]
  },
  {
   "cell_type": "code",
   "execution_count": 14,
   "id": "a9d022c7",
   "metadata": {},
   "outputs": [
    {
     "data": {
      "text/plain": [
       "<tf.Variable 'UnreadVariable' shape=(1,) dtype=float64, numpy=array([-0.69612296])>"
      ]
     },
     "execution_count": 14,
     "metadata": {},
     "output_type": "execute_result"
    }
   ],
   "source": [
    "W1.assign(best_weights[0])\n",
    "b1.assign(best_weights[1])\n",
    "W2.assign(best_weights[2])\n",
    "b2.assign(best_weights[3])"
   ]
  },
  {
   "cell_type": "markdown",
   "id": "30744dca",
   "metadata": {},
   "source": [
    "#### Display the weights and biases of both the hidden layer and the output layer"
   ]
  },
  {
   "cell_type": "code",
   "execution_count": 15,
   "id": "8d81d9f6",
   "metadata": {},
   "outputs": [
    {
     "name": "stdout",
     "output_type": "stream",
     "text": [
      "Weights of the hidden layer:\n",
      "[[-0.15277552  0.18350107 -0.90769506  1.13961477 -0.02909554  0.02423389\n",
      "   0.58667647  0.36165795  0.64021343  0.07313513]\n",
      " [-0.90565486  0.02066786 -1.08379276 -0.63085352  0.24873671 -0.10299757\n",
      "  -0.52167496 -1.44602646 -1.27431423  0.87383809]\n",
      " [ 0.59907509  0.62342441 -1.49969187 -2.05043865 -2.34531228  0.81819661\n",
      "   1.00198516 -0.87776546 -0.2930886  -0.16263321]\n",
      " [-0.76788543  0.96413367  0.74717765  2.28687355  0.28187026  1.59659177\n",
      "   0.35597181  0.66534562  1.22516734 -1.65964228]\n",
      " [ 0.0206781   1.15214009  1.41690632  2.28608656  0.47454308  1.13132709\n",
      "   1.6487288  -0.42096167  0.91879599 -1.19408621]]\n",
      "\n",
      "Biases of the hidden layer:\n",
      "[-0.44918373 -0.17214809 -0.00163304  0.00465662  0.04287569  0.1450922\n",
      " -0.09088632  0.25335216  0.18478126  0.33125831]\n",
      "\n",
      "Weights of the output layer:\n",
      "[[ 0.71160313]\n",
      " [ 0.74914086]\n",
      " [ 0.4293711 ]\n",
      " [-0.0928552 ]\n",
      " [-0.46891879]\n",
      " [ 1.02054492]\n",
      " [ 0.27655919]\n",
      " [ 1.06558825]\n",
      " [ 0.62656867]\n",
      " [-1.3729385 ]]\n",
      "\n",
      "Biases of the output layer:\n",
      "[-0.69612296]\n"
     ]
    }
   ],
   "source": [
    "print(\"Weights of the hidden layer:\")\n",
    "print(W1.numpy())\n",
    "print(\"\\nBiases of the hidden layer:\")\n",
    "print(b1.numpy())\n",
    "print(\"\\nWeights of the output layer:\")\n",
    "print(W2.numpy())\n",
    "print(\"\\nBiases of the output layer:\")\n",
    "print(b2.numpy())"
   ]
  },
  {
   "cell_type": "markdown",
   "id": "45c41885",
   "metadata": {},
   "source": [
    "#### Display the training loss and validation loss against epoch graph"
   ]
  },
  {
   "cell_type": "code",
   "execution_count": 16,
   "id": "47f05472",
   "metadata": {
    "scrolled": true
   },
   "outputs": [
    {
     "data": {
      "image/png": "[encoded data removed]",
      "text/plain": [
       "<Figure size 640x480 with 1 Axes>"
      ]
     },
     "metadata": {},
     "output_type": "display_data"
    }
   ],
   "source": [
    "plt.plot(train_losses, label='Training Loss')\n",
    "plt.plot(val_losses, label='Validation Loss')\n",
    "plt.xlabel('Epoch')\n",
    "plt.ylabel('Loss')\n",
    "plt.legend()\n",
    "plt.show()"
   ]
  },
  {
   "cell_type": "markdown",
   "id": "0c0b4c38",
   "metadata": {},
   "source": [
    "#### Predict the test set"
   ]
  },
  {
   "cell_type": "code",
   "execution_count": 17,
   "id": "a84f73b1",
   "metadata": {},
   "outputs": [],
   "source": [
    "y_pred = tf.round(sigmoid(forward(X_test, W1, b1, W2, b2)))\n",
    "y_pred = tf.squeeze(y_pred).numpy()\n"
   ]
  },
  {
   "cell_type": "markdown",
   "id": "20d715ef",
   "metadata": {},
   "source": [
    "#### Display the confusion matrix and the classification report."
   ]
  },
  {
   "cell_type": "code",
   "execution_count": 18,
   "id": "c35deeb3",
   "metadata": {},
   "outputs": [
    {
     "name": "stdout",
     "output_type": "stream",
     "text": [
      "Confusion Matrix:\n",
      "[[99  1]\n",
      " [ 1 99]]\n",
      "\n",
      "Classification Report:\n",
      "              precision    recall  f1-score   support\n",
      "\n",
      "           0       0.99      0.99      0.99       100\n",
      "           1       0.99      0.99      0.99       100\n",
      "\n",
      "    accuracy                           0.99       200\n",
      "   macro avg       0.99      0.99      0.99       200\n",
      "weighted avg       0.99      0.99      0.99       200\n",
      "\n"
     ]
    }
   ],
   "source": [
    "print(\"Confusion Matrix:\")\n",
    "print(confusion_matrix(y_test, y_pred))\n",
    "print(\"\\nClassification Report:\")\n",
    "print(classification_report(y_test, y_pred))"
   ]
  },
  {
   "cell_type": "code",
   "execution_count": null,
   "id": "a9d1099e",
   "metadata": {},
   "outputs": [],
   "source": []
  }
 ],
 "metadata": {
  "kernelspec": {
   "display_name": "Python 3 (ipykernel)",
   "language": "python",
   "name": "python3"
  },
  "language_info": {
   "codemirror_mode": {
    "name": "ipython",
    "version": 3
   },
   "file_extension": ".py",
   "mimetype": "text/x-python",
   "name": "python",
   "nbconvert_exporter": "python",
   "pygments_lexer": "ipython3",
   "version": "3.10.9"
  }
 },
 "nbformat": 4,
 "nbformat_minor": 5
}
